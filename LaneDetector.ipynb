{
 "cells": [
  {
   "cell_type": "markdown",
   "metadata": {},
   "source": [
    "## Making Lane Detector"
   ]
  },
  {
   "cell_type": "code",
   "execution_count": 2,
   "metadata": {
    "ExecuteTime": {
     "end_time": "2021-01-29T17:03:09.650336Z",
     "start_time": "2021-01-29T17:03:09.504895Z"
    }
   },
   "outputs": [],
   "source": [
    "import cv2 as cv\n",
    "import numpy as np"
   ]
  },
  {
   "cell_type": "code",
   "execution_count": 30,
   "metadata": {
    "ExecuteTime": {
     "end_time": "2021-01-29T17:21:56.589562Z",
     "start_time": "2021-01-29T17:21:56.539703Z"
    }
   },
   "outputs": [],
   "source": [
    "class PrepareImage():\n",
    "    '''ATTRIBUTES:\n",
    "    gauss_size : kernel size for the gaussian blur \n",
    "                type-> tuple of size 2 with odd and equal \n",
    "                       entries > 1\n",
    "    gauss_deviation : x and y axis standard deviations for \n",
    "               gaussian blur \n",
    "               type -> list-like of size = 2\n",
    "    auto_canny : If auto canny is True use median of blurred \n",
    "                image to calculate thresholds \n",
    "                type-> boolean\n",
    "    canny_low : the lower threshold of the canny filter \n",
    "                type -> int \n",
    "    canny_high : the higher threshold of the canny filter \n",
    "                type -> int \n",
    "    segment_x : the width of segment peak( the triangular \n",
    "               segment head). Given as the fraction of the width \n",
    "               of the image\n",
    "               type -> float in (0,1) 0 and 1 exclusive\n",
    "    segment_y : the height segment peak\n",
    "                Given as the fraction of the height from the \n",
    "                top \n",
    "                type -> float in (0,1) 0 and 1 exclusive\n",
    "                \n",
    "    METHODS:\n",
    "    ...\n",
    "    '''\n",
    "    def __init__(self,\n",
    "                gauss_size = None,\n",
    "                gauss_deviation = None,\n",
    "                auto_canny = False,\n",
    "                canny_low = 50,\n",
    "                canny_high = 175,\n",
    "                segment_x = 0.5,\n",
    "                segment_y = 0.5):\n",
    "        \n",
    "        # setting gaussian kernel parameters.\n",
    "        if(gauss_size is not None):\n",
    "            if(len(gauss_size) != 2):\n",
    "                raise Exception(\"Wrong size for the Gaussian Kernel\")\n",
    "            elif(type(gauss_size) is not tuple):\n",
    "                raise Exception(\"Kernel type should be a tuple\")\n",
    "            elif(gauss_size[0]%2 == 0 or gauss_size[1]%2 == 0):\n",
    "                raise Exception(\"Even entries found in Gaussian Kernel\")    \n",
    "        self.gauss_kernel = gauss_size\n",
    "            \n",
    "        if(gauss_deviation is not None):\n",
    "            if(len(gauss_deviation)!=2):\n",
    "                raise Exception(\"Wrong length of gauss deviation\")\n",
    "            else:\n",
    "                self.gauss_deviation = gauss_deviation\n",
    "            \n",
    "        if(type(auto_canny) is not bool):\n",
    "            raise TypeError(\"Incorrect Type mentioned for auto canny\")\n",
    "            \n",
    "        # setting canny parameters\n",
    "        if(auto_canny is False):\n",
    "            self.auto_canny = False\n",
    "            if(type(canny_high) is int and type(canny_low) is int):\n",
    "                self.canny_low = canny_low \n",
    "                self.canny_high = canny_high \n",
    "            else:\n",
    "                raise TypeError(\"Incorrect type specified for canny thresholds\")\n",
    "        else:\n",
    "            self.auto_canny = True\n",
    "            \n",
    "        # setting segment parameters\n",
    "        if segment_x >=1 or segment_x<=0:\n",
    "            raise Exception(\"Fraction specified is out of range (0,1)\")\n",
    "        else:\n",
    "            self.segment_x = segment_x\n",
    "        if segment_y >=1 or segment_y<=0:\n",
    "            raise Exception(\"Fraction specified is out of range (0,1)\")\n",
    "        else:\n",
    "            self.segment_y = segment_y \n",
    "    def get_binary_image(self,frame):\n",
    "        can = self.do_canny(frame)\n",
    "        seg = self.segment_image(can)\n",
    "        buffers = self.draw_probable_lane(seg)\n",
    "        return (seg,buffers)\n",
    "    def do_canny(self,frame):\n",
    "        '''PARAMETERS: the frame of the image on which we want to apply the \n",
    "                      canny filter \n",
    "          RETURNS : a canny filtered frame '''\n",
    "        # gray the image \n",
    "        gray = cv.cvtColor(frame, cv.COLOR_RGB2GRAY) \n",
    "        # apply blur \n",
    "        if(self.gauss_kernel is None):\n",
    "            self.gauss_kernel = (9,9) # using a default kernel size \n",
    "        if(self.gauss_deviation is None):\n",
    "            self.gauss_deviation = [3,3]\n",
    "        \n",
    "        blur = cv.GaussianBlur(gray, self.gauss_kernel, self.gauss_deviation[0], self.gauss_deviation[1])\n",
    "        \n",
    "        #apply canny filter \n",
    "        if self.auto_canny is False:\n",
    "            canny = cv.Canny(blur,self.canny_low,self.canny_high)\n",
    "        else:\n",
    "            # Auto canny trumps specified parameters \n",
    "            v = np.median(blur)\n",
    "            sigma = 0.33\n",
    "            lower = int(max(0, (1.0 - sigma) * v))\n",
    "            upper = int(min(255, (1.0 + sigma) * v))\n",
    "            canny = cv.Canny(blur,lower,upper)\n",
    "        \n",
    "        return canny \n",
    "    \n",
    "    def segment_image(self,frame):\n",
    "        '''PARAMETERS: the frame of the image on which we want to apply the \n",
    "                      segementation filter \n",
    "        RETURNS : a segmented canny filtered frame '''\n",
    "        height = frame.shape[0]\n",
    "        width = frame.shape[1]\n",
    "        shift = int(0.08 * width)\n",
    "        points = np.array([\n",
    "            [(0,height),(width,height),(int(width*self.segment_x)+shift,int(height*self.segment_y)),\n",
    "             (int(width*self.segment_x)-shift,int(height*self.segment_y))]\n",
    "        ])\n",
    "        # create an image with zero intensity with same dimensions as frame.\n",
    "        mask = np.zeros_like(frame)\n",
    "        \n",
    "        cv.fillPoly(mask,points,255) # filling the frame's triangle with white pixels\n",
    "        # do a bitwise and on the canny filtered black and white image and the \n",
    "        # segment you just created to get a triangular area for lane detection \n",
    "        segment = cv.bitwise_and(frame, mask)\n",
    "        return segment \n",
    "    \n",
    "    def draw_probable_lane(self,frame):\n",
    "        '''PARAMETERS : the image frame we got from the segmentation filter \n",
    "        RETURNS : a buffer frame so that we can provide some kind of output \n",
    "        if no lane is currently detected. '''\n",
    "        img = frame\n",
    "        imgright = frame \n",
    "        imgleft = frame\n",
    "        height = frame.shape[0]\n",
    "        width = frame.shape[1]\n",
    "        shift_above = int(0.08 * width)\n",
    "        shift_below = int(0.25 * width)\n",
    "        # left lane points \n",
    "        xy_1l = (shift_below,height) # bottom left\n",
    "        xy_2l = (int(self.segment_x * width) - shift_above , int(self.segment_y * height) ) # center left \n",
    "        # right lane points \n",
    "        xy_1r = (width - shift_below,height) #bottom right\n",
    "        xy_2r = (int(self.segment_x * width) + shift_above , int(self.segment_y * height) ) # center right\n",
    "        # draw lines\n",
    "        cv.line(img,xy_1l,xy_2l,(200,200,200),5)\n",
    "        cv.line(img,xy_1r,xy_2r,(200,200,200),5)\n",
    "        cv.line(imgleft,xy_1l,xy_2l,(200,200,200),5)\n",
    "        cv.imshow(\"image\",imgleft)\n",
    "        cv.waitKey(3000)\n",
    "        cv.destroyAllWindows()\n",
    "        cv.line(imgright,xy_1r,xy_2r,(200,200,200),5)\n",
    "        return (imgleft,imgright,img)\n",
    "    \n",
    "    ## to do more...."
   ]
  },
  {
   "cell_type": "code",
   "execution_count": 11,
   "metadata": {
    "ExecuteTime": {
     "end_time": "2021-01-29T17:07:30.731764Z",
     "start_time": "2021-01-29T17:07:30.723783Z"
    }
   },
   "outputs": [],
   "source": [
    "def rescale_frame(self,frame,percent=75):\n",
    "        width = int(frame.shape[1] * percent / 100)\n",
    "        height = int(frame.shape[0] * percent / 100)\n",
    "        dim = (width,height)\n",
    "        return cv.resize(frame,dim,interpolation = cv.INTER_AREA)"
   ]
  },
  {
   "cell_type": "code",
   "execution_count": 31,
   "metadata": {
    "ExecuteTime": {
     "end_time": "2021-01-29T17:21:59.399423Z",
     "start_time": "2021-01-29T17:21:59.394435Z"
    }
   },
   "outputs": [],
   "source": [
    "prep = PrepareImage((11,11),(3,3),auto_canny=True, segment_y = 0.5)"
   ]
  },
  {
   "cell_type": "code",
   "execution_count": 33,
   "metadata": {
    "ExecuteTime": {
     "end_time": "2021-01-29T17:22:13.247314Z",
     "start_time": "2021-01-29T17:22:04.744434Z"
    }
   },
   "outputs": [],
   "source": [
    "#working fine...\n",
    "cap = cv.VideoCapture(r\"E:\\InnerveHackathon\\pathvalild.mp4\")\n",
    "while True:\n",
    "    got,img = cap.read()\n",
    "    if got:\n",
    "        images = prep.get_binary_image(img)\n",
    "        cv.line(images[1][0],(images[1][0].shape[1]//2,0),(images[1][0].shape[1]//2,images[1][0].shape[0]),(200,200,0),5)\n",
    "        cv.imshow(\"Final\",images[1][1])\n",
    "        if cv.waitKey(15) & 0xFF ==ord('q'):\n",
    "            break\n",
    "cv.destroyAllWindows()"
   ]
  },
  {
   "cell_type": "markdown",
   "metadata": {},
   "source": [
    "## So, we will show atleast a basic navigation information if no lane is actually detected\n",
    "- Made the buffer lanes for the output for lanes when there actually isn't any lane detected throgh Hough Transformations\n"
   ]
  },
  {
   "cell_type": "code",
   "execution_count": null,
   "metadata": {},
   "outputs": [],
   "source": []
  }
 ],
 "metadata": {
  "kernelspec": {
   "display_name": "Python 3",
   "language": "python",
   "name": "python3"
  },
  "language_info": {
   "codemirror_mode": {
    "name": "ipython",
    "version": 3
   },
   "file_extension": ".py",
   "mimetype": "text/x-python",
   "name": "python",
   "nbconvert_exporter": "python",
   "pygments_lexer": "ipython3",
   "version": "3.7.4"
  },
  "varInspector": {
   "cols": {
    "lenName": 16,
    "lenType": 16,
    "lenVar": 40
   },
   "kernels_config": {
    "python": {
     "delete_cmd_postfix": "",
     "delete_cmd_prefix": "del ",
     "library": "var_list.py",
     "varRefreshCmd": "print(var_dic_list())"
    },
    "r": {
     "delete_cmd_postfix": ") ",
     "delete_cmd_prefix": "rm(",
     "library": "var_list.r",
     "varRefreshCmd": "cat(var_dic_list()) "
    }
   },
   "types_to_exclude": [
    "module",
    "function",
    "builtin_function_or_method",
    "instance",
    "_Feature"
   ],
   "window_display": false
  }
 },
 "nbformat": 4,
 "nbformat_minor": 2
}
