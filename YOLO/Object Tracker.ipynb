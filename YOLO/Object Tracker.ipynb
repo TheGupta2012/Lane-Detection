{
 "cells": [
  {
   "cell_type": "markdown",
   "metadata": {},
   "source": [
    "## Making the text processor\n",
    "**STEPS**:\n",
    "- First the class Data Structure is returned \n",
    "- Each class may have multiple instances in the boxes_dict \n",
    "- Let us say that we have a class in the dictionary with the Confidence value for each box and the (xo,yo,w,h) of the box \n",
    "- For each class there will be a **list**\n",
    "- Each list element -\n",
    "    - Contains the confidence of the Box \n",
    "    - Box drawing information"
   ]
  },
  {
   "cell_type": "code",
   "execution_count": 9,
   "metadata": {
    "ExecuteTime": {
     "end_time": "2021-03-24T12:45:47.386578Z",
     "start_time": "2021-03-24T12:45:47.375946Z"
    }
   },
   "outputs": [],
   "source": [
    "import numpy as np "
   ]
  },
  {
   "cell_type": "code",
   "execution_count": 9,
   "metadata": {},
   "outputs": [
    {
     "name": "stdout",
     "output_type": "stream",
     "text": [
      "{0: 'person', 1: 'bicycle', 10: 'fire hydrant', 11: 'stop sign', 13: 'bench', 24: 'backpack', 26: 'handbag', 28: 'suitcase', 36: 'skateboard', 39: 'bottle', 56: 'chair', 58: 'pottedplant', 60: 'diningtable', 62: 'tvmonitor', 68: 'microwave', 71: 'sink', 72: 'refrigerator', 75: 'vase'} {0: 'person', 1: 'bicycle', 2: 'car', 3: 'motorbike', 4: 'aeroplane', 5: 'bus', 6: 'train', 7: 'truck', 8: 'boat', 9: 'traffic light', 10: 'fire hydrant', 11: 'stop sign', 12: 'parking meter', 13: 'bench', 14: 'bird', 15: 'cat', 16: 'dog', 17: 'horse', 18: 'sheep', 19: 'cow', 20: 'elephant', 21: 'bear', 22: 'zebra', 23: 'giraffe', 24: 'backpack', 25: 'umbrella', 26: 'handbag', 27: 'tie', 28: 'suitcase', 29: 'frisbee', 30: 'skis', 31: 'snowboard', 32: 'sports ball', 33: 'kite', 34: 'baseball bat', 35: 'baseball glove', 36: 'skateboard', 37: 'surfboard', 38: 'tennis racket', 39: 'bottle', 40: 'wine glass', 41: 'cup', 42: 'fork', 43: 'knife', 44: 'spoon', 45: 'bowl', 46: 'banana', 47: 'apple', 48: 'sandwich', 49: 'orange', 50: 'broccoli', 51: 'carrot', 52: 'hot dog', 53: 'pizza', 54: 'donut', 55: 'cake', 56: 'chair', 57: 'sofa', 58: 'pottedplant', 59: 'bed', 60: 'diningtable', 61: 'toilet', 62: 'tvmonitor', 63: 'laptop', 64: 'mouse', 65: 'remote', 66: 'keyboard', 67: 'cell phone', 68: 'microwave', 69: 'oven', 70: 'toaster', 71: 'sink', 72: 'refrigerator', 73: 'book', 74: 'clock', 75: 'vase', 76: 'scissors', 77: 'teddy bear', 78: 'hair drier', 79: 'toothbrush'}\n"
     ]
    }
   ],
   "source": [
    "file_ind = open(\"../Data/REQUIRED_NAMES.txt\",'r')\n",
    "all_file = open(\"files/coco.names\")\n",
    "# read \n",
    "indoor_names = file_ind.read().splitlines()\n",
    "all_names = all_file.read().splitlines()\n",
    "ind_name, all_name = {},{}\n",
    "\n",
    "for j,k in enumerate(all_names):\n",
    "    all_name[j] = k\n",
    "    if(k in indoor_names):\n",
    "        ind_name[j] = k\n",
    "# print(ind_name,all_name)\n",
    "\n",
    "# make an empty list for each label \n",
    "store_info = {}\n",
    "for k in ind_name.values():\n",
    "    store_info[k] = []\n",
    "\n",
    "# process dictionary \n",
    "def process_box_dict(boxes_dict):\n",
    "    for c_index,boxes in boxes_dict.items():\n",
    "        if c_index not in ind_name:\n",
    "            continue\n",
    "        else:\n",
    "            class_name = ind_name[c_index]\n",
    "            # now return the 2 highest confidence object and the nearest\n",
    "            distance = process_class(boxes)\n",
    "            \n",
    "            # this distance var contains the distance to the class \n",
    "            # in inches \n",
    "            \n",
    "            distance = distance/12 # it is a numpy array \n",
    "            for k in distance:\n",
    "                text = \"There is a \"+class_name+\" \"+str(distance)+\" ahead of you\"\n",
    "                store_info[class_name].append((distance,text))\n",
    "                \n",
    "    # parse and keep the 2 most nearest labels \n",
    "    # to-do\n",
    "    \n",
    "    \n",
    "#process the class\n",
    "def process_class(boxes):\n",
    "    # boxes must contain elements like (xo,yo,w,h)\n",
    "    for box in boxes:\n",
    "        xy,confidence = box[:4],box[4]\n",
    "        # to do...\n",
    "    \n",
    "    "
   ]
  }
 ],
 "metadata": {
  "kernelspec": {
   "display_name": "Python 3",
   "language": "python",
   "name": "python3"
  },
  "language_info": {
   "codemirror_mode": {
    "name": "ipython",
    "version": 3
   },
   "file_extension": ".py",
   "mimetype": "text/x-python",
   "name": "python",
   "nbconvert_exporter": "python",
   "pygments_lexer": "ipython3",
   "version": "3.7.4"
  },
  "varInspector": {
   "cols": {
    "lenName": 16,
    "lenType": 16,
    "lenVar": 40
   },
   "kernels_config": {
    "python": {
     "delete_cmd_postfix": "",
     "delete_cmd_prefix": "del ",
     "library": "var_list.py",
     "varRefreshCmd": "print(var_dic_list())"
    },
    "r": {
     "delete_cmd_postfix": ") ",
     "delete_cmd_prefix": "rm(",
     "library": "var_list.r",
     "varRefreshCmd": "cat(var_dic_list()) "
    }
   },
   "types_to_exclude": [
    "module",
    "function",
    "builtin_function_or_method",
    "instance",
    "_Feature"
   ],
   "window_display": false
  }
 },
 "nbformat": 4,
 "nbformat_minor": 2
}
