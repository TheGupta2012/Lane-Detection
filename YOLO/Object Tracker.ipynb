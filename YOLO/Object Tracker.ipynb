{
 "cells": [
  {
   "cell_type": "markdown",
   "metadata": {},
   "source": [
    "## Making the text processor\n",
    "**STEPS**:\n",
    "- First the class Data Structure is returned \n",
    "- Each class may have multiple instances in the boxes_dict \n",
    "- Let us say that we have a class in the dictionary with the Confidence value for each box and the (xo,yo,w,h) of the box \n",
    "- For each class there will be a **list**\n",
    "- Each list element -\n",
    "    - Contains the confidence of the Box \n",
    "    - Box drawing information"
   ]
  },
  {
   "cell_type": "code",
   "execution_count": 9,
   "metadata": {
    "ExecuteTime": {
     "end_time": "2021-03-24T12:45:47.386578Z",
     "start_time": "2021-03-24T12:45:47.375946Z"
    }
   },
   "outputs": [],
   "source": [
    "import numpy as np "
   ]
  },
  {
   "cell_type": "code",
   "execution_count": 41,
   "metadata": {
    "ExecuteTime": {
     "end_time": "2021-03-26T13:58:28.760432Z",
     "start_time": "2021-03-26T13:58:28.728123Z"
    }
   },
   "outputs": [],
   "source": [
    "file_ind = open(\"../Data/REQUIRED_NAMES.txt\",'r')\n",
    "all_file = open(\"files/coco.names\")\n",
    "# read \n",
    "indoor_names = file_ind.read().splitlines()\n",
    "all_names = all_file.read().splitlines()\n",
    "ind_name, all_name = {},{}\n",
    "\n",
    "for j,k in enumerate(all_names):\n",
    "    all_name[j] = k\n",
    "    if(k in indoor_names):\n",
    "        ind_name[j] = k\n",
    "# print(ind_name,all_name)\n",
    "\n",
    "# make an empty list for each label \n",
    "store_info = {}\n",
    "for k in ind_name.values():\n",
    "    store_info[k] = []\n",
    "\n",
    "# process dictionary \n",
    "def process_box_dict(boxes_dict):\n",
    "    for c_index,boxes in boxes_dict.items():\n",
    "        if c_index not in ind_name:\n",
    "            continue\n",
    "        if(len(boxes) == 0):\n",
    "            continue \n",
    "        else:\n",
    "            class_name = ind_name[c_index]\n",
    "            # now return the 2 highest confidence object and the nearest\n",
    "            distance = process_class(boxes)\n",
    "            \n",
    "            # this distance var contains the distance to the class \n",
    "            # in inches \n",
    "            \n",
    "            distance = distance/12 # it is a numpy array \n",
    "            for k in distance:\n",
    "                text = \"There is a \"+class_name+\" \"+str(distance)+\" ahead of you\"\n",
    "                store_info[class_name].append((distance,text))\n",
    "                \n",
    "    # parse and keep the 2 most nearest labels \n",
    "    # to-do\n",
    "    \n",
    "\n",
    "def get_orientation(x1,x2,center):\n",
    "    '''Returns orientation of the object with some \n",
    "       threshold'''\n",
    "    \n",
    "    object_mid = (x1+x2)//2 \n",
    "    \n",
    "    thres = center//8\n",
    "    \n",
    "    left = center - thres \n",
    "    right = center + thres \n",
    "    \n",
    "    if(object_mid < left):\n",
    "        return \"left\" \n",
    "    elif(object_mid > right):\n",
    "        return \"right\" \n",
    "    else:\n",
    "        return \"ahead\"\n",
    "    \n",
    "    \n",
    "#process the class\n",
    "def process_class(boxes):\n",
    "    # boxes must contain elements like (xo,yo,w,h)\n",
    "    c = 0\n",
    "    for box in boxes:\n",
    "        xy,confidence = box[:4],box[4]\n",
    "        # to do...\n",
    "        \n",
    "        '''xy[0],xy[1] : (x,y) : top left coordinate \n",
    "           xy[2],xy[3] : (x,y) : bottom right coordinate'''\n",
    "        top_left = (xy[0],xy[1])\n",
    "        bottom_right = (xy[2],xy[3])\n",
    "        \n",
    "        '''Find the width and height of the bounding box'''\n",
    "        width = abs(top_left[0] - bottom_right[0])\n",
    "        height = abs(top_left[1] - bottom_right[1])\n",
    "        \n",
    "        # Find if the object is towards left, right or the center \n",
    "        x1,x2 = top_left[0],bottom_right[0]\n",
    "        orient = get_orientation(x1,x2,416//2)\n",
    "        \n",
    "        # feed these into the distance formula given \n",
    "        D = ((2*3.14*180)/(width + height*360))* 1000 + 3\n",
    "\n",
    "        print(\"Distance from camera is \",D/12,\"feet\")\n",
    "        print(\"Object is on the \",orient)\n",
    "        \n",
    "    "
   ]
  },
  {
   "cell_type": "code",
   "execution_count": 44,
   "metadata": {
    "ExecuteTime": {
     "end_time": "2021-03-26T13:58:48.657407Z",
     "start_time": "2021-03-26T13:58:48.649043Z"
    }
   },
   "outputs": [],
   "source": [
    "b = [[306.77042  , 135.80151  , 353.52597  , 357.2086   ,   0.866853 ]]"
   ]
  },
  {
   "cell_type": "code",
   "execution_count": 45,
   "metadata": {
    "ExecuteTime": {
     "end_time": "2021-03-26T13:58:49.057766Z",
     "start_time": "2021-03-26T13:58:49.046129Z"
    }
   },
   "outputs": [
    {
     "name": "stdout",
     "output_type": "stream",
     "text": [
      "Distance from camera is  1.4311422299756782 feet\n",
      "Object is on the  right\n"
     ]
    }
   ],
   "source": [
    "r = process_class(b)"
   ]
  },
  {
   "cell_type": "code",
   "execution_count": null,
   "metadata": {},
   "outputs": [],
   "source": []
  },
  {
   "cell_type": "code",
   "execution_count": null,
   "metadata": {},
   "outputs": [],
   "source": []
  }
 ],
 "metadata": {
  "kernelspec": {
   "display_name": "Python 3",
   "language": "python",
   "name": "python3"
  },
  "language_info": {
   "codemirror_mode": {
    "name": "ipython",
    "version": 3
   },
   "file_extension": ".py",
   "mimetype": "text/x-python",
   "name": "python",
   "nbconvert_exporter": "python",
   "pygments_lexer": "ipython3",
   "version": "3.7.4"
  },
  "varInspector": {
   "cols": {
    "lenName": 16,
    "lenType": 16,
    "lenVar": 40
   },
   "kernels_config": {
    "python": {
     "delete_cmd_postfix": "",
     "delete_cmd_prefix": "del ",
     "library": "var_list.py",
     "varRefreshCmd": "print(var_dic_list())"
    },
    "r": {
     "delete_cmd_postfix": ") ",
     "delete_cmd_prefix": "rm(",
     "library": "var_list.r",
     "varRefreshCmd": "cat(var_dic_list()) "
    }
   },
   "types_to_exclude": [
    "module",
    "function",
    "builtin_function_or_method",
    "instance",
    "_Feature"
   ],
   "window_display": false
  }
 },
 "nbformat": 4,
 "nbformat_minor": 2
}
