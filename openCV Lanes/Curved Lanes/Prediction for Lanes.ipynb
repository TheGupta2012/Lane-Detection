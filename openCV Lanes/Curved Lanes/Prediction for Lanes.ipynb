{
 "cells": [
  {
   "cell_type": "code",
   "execution_count": 1,
   "metadata": {
    "ExecuteTime": {
     "end_time": "2021-02-19T13:13:47.634749Z",
     "start_time": "2021-02-19T13:13:46.797641Z"
    }
   },
   "outputs": [],
   "source": [
    "import cv2 as cv\n",
    "import numpy as np "
   ]
  },
  {
   "cell_type": "markdown",
   "metadata": {},
   "source": [
    "## Predictions Class"
   ]
  },
  {
   "cell_type": "code",
   "execution_count": null,
   "metadata": {},
   "outputs": [],
   "source": [
    "class Predictions():\n",
    "    '''Provides predictions for a given binary frame where \n",
    "       the noise in the image has been removed.\n",
    "       PARAMETERS: basis: string -> \"mean\" or \"median\" \n",
    "                           how do you provide the output \n",
    "                           for the lane that you acquired\n",
    "                   threshold: float(0,1) : how closely you \n",
    "                           want the lane to be detected relative \n",
    "                           to center of image '''\n",
    "    def __init__(self,basis = \"mean\",\n",
    "                threshold = 0.08):\n",
    "        if(basis not in [\"mean\",\"median\"]):\n",
    "            raise ValueError(\"Basis should be either mean or median\")\n",
    "        self.basis = basis\n",
    "        \n",
    "        if(threshold <=0 or threshold>=1 ):\n",
    "            raise ValueError(\"Invalid range for threshold\")\n",
    "        self.threshold = threshold \n",
    "            \n",
    "    def get_lane_middle(self,X):\n",
    "        '''RETURNS: middle x co-ordinate based on the \n",
    "                    basis defined in class parameters '''\n",
    "        if(self.basis == \"mean\"):\n",
    "            mid = int(np.mean(X))\n",
    "        else:\n",
    "            mid = int(np.median(X))\n",
    "        return mid\n",
    "    def get_outputs(self,frame,points):\n",
    "        '''Generates predictions for walking \n",
    "           on a lane \n",
    "           PARAMETERS: frame : original frame on which we draw\n",
    "                             predicted outputs. This already has the \n",
    "                             lanes drawn on it \n",
    "                       points : list of 2-tuples : the list \n",
    "                              which contains the points of the lane \n",
    "                              which is drawn on the image\n",
    "           RETURNS : a frame with the relevant outputs \n",
    "           '''\n",
    "        height,width = frame.shape[0], frame.shape[1]\n",
    "        # get the center of frame \n",
    "        center_x = width//2 \n",
    "        # get the distribution of points on \n",
    "        # left and right of image center \n",
    "        left_x,right_x = 0,0\n",
    "        for k in points:\n",
    "            x = k[0]\n",
    "            if(x < center_x):\n",
    "                left_x+=1\n",
    "            else:\n",
    "                right_x+=1\n",
    "            X.append(k[0])\n",
    "        # get the lane middle and draw \n",
    "        lane_mid = self.get_lane_middle(X)\n",
    "        cv.line(frame,(lane_mid,height-1),(lane_mid,height - width//10),(100,200,10),2)\n",
    "        # calculate shift\n",
    "        shift_allowed = int(self.threshold*width)\n",
    "        # calculate deviations and put on image \n",
    "        deviation = lane_mid - center_x\n",
    "        deviation_text = \"Deviation: \"+str(np.round((deviation * 100/width),3)) + \"%\"\n",
    "        cv.putText(frame,deviation_text,(lane_mid-30,height-width//(9.5)),3,1,(200,200,10),1)\n",
    "        \n",
    "        if(abs(deviation) >= shift_allowed):\n",
    "            # large deviation : give shift outputs\n",
    "            frame = self.shifted_lane(frame,deviation)\n",
    "            return frame \n",
    "        else:\n",
    "            pass # to-do...\n",
    "        "
   ]
  }
 ],
 "metadata": {
  "kernelspec": {
   "display_name": "Python 3",
   "language": "python",
   "name": "python3"
  },
  "language_info": {
   "codemirror_mode": {
    "name": "ipython",
    "version": 3
   },
   "file_extension": ".py",
   "mimetype": "text/x-python",
   "name": "python",
   "nbconvert_exporter": "python",
   "pygments_lexer": "ipython3",
   "version": "3.7.4"
  },
  "varInspector": {
   "cols": {
    "lenName": 16,
    "lenType": 16,
    "lenVar": 40
   },
   "kernels_config": {
    "python": {
     "delete_cmd_postfix": "",
     "delete_cmd_prefix": "del ",
     "library": "var_list.py",
     "varRefreshCmd": "print(var_dic_list())"
    },
    "r": {
     "delete_cmd_postfix": ") ",
     "delete_cmd_prefix": "rm(",
     "library": "var_list.r",
     "varRefreshCmd": "cat(var_dic_list()) "
    }
   },
   "types_to_exclude": [
    "module",
    "function",
    "builtin_function_or_method",
    "instance",
    "_Feature"
   ],
   "window_display": false
  }
 },
 "nbformat": 4,
 "nbformat_minor": 2
}
