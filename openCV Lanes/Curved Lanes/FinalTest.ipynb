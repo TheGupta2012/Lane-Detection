{
 "cells": [
  {
   "cell_type": "code",
   "execution_count": 2,
   "metadata": {
    "ExecuteTime": {
     "end_time": "2021-02-27T12:05:57.214188Z",
     "start_time": "2021-02-27T12:05:53.528453Z"
    }
   },
   "outputs": [],
   "source": [
    "from ImagePrep import PrepareImage\n",
    "from CurveDetector import Curve\n",
    "from PredictionforLanes import Predictions\n",
    "import cv2\n",
    "def main():\n",
    "    cap = cv2.VideoCapture('E:\\InnerveHackathon\\pathvalild_Trim.mp4')\n",
    "    i = 0\n",
    "    ImagePreprocessor = PrepareImage((9,9),(0,0),False,50,170,0.5,0.4)\n",
    "    CurveMaker = Curve(draw = False)\n",
    "    Predict = Predictions(basis='median',threshold=0.25)\n",
    "    while(cap.isOpened()):\n",
    "        ret, frame = cap.read()\n",
    "        if(ret):\n",
    "            frame = cv2.resize(frame, (800, 600))\n",
    "            if(i % 5 == 0):\n",
    "                i = 0\n",
    "                image=ImagePreprocessor.get_binary_image(frame)\n",
    "                left, right = ImagePreprocessor.get_poly_maskpoints(image)\n",
    "                curve=CurveMaker.curveTrace(image,left,right)\n",
    "                curve=CurveMaker.drawCurve(frame,curve,(255,0,0),4)\n",
    "                points = CurveMaker.non_zero\n",
    "                final = Predict.get_outputs(curve,points)\n",
    "#                 final = \n",
    "            cv2.imshow('final image', final)\n",
    "            if(cv2.waitKey(10) & 0xff == ord('q')):\n",
    "                break\n",
    "        else:\n",
    "            break\n",
    "        i += 1\n",
    "    cap.release()\n",
    "    cv2.destroyAllWindows()\n",
    "\n",
    "\n",
    "if __name__ == \"__main__\":\n",
    "    main()\n"
   ]
  },
  {
   "cell_type": "code",
   "execution_count": null,
   "metadata": {},
   "outputs": [],
   "source": []
  }
 ],
 "metadata": {
  "kernelspec": {
   "display_name": "Python 3",
   "language": "python",
   "name": "python3"
  },
  "language_info": {
   "codemirror_mode": {
    "name": "ipython",
    "version": 3
   },
   "file_extension": ".py",
   "mimetype": "text/x-python",
   "name": "python",
   "nbconvert_exporter": "python",
   "pygments_lexer": "ipython3",
   "version": "3.7.4"
  },
  "varInspector": {
   "cols": {
    "lenName": 16,
    "lenType": 16,
    "lenVar": 40
   },
   "kernels_config": {
    "python": {
     "delete_cmd_postfix": "",
     "delete_cmd_prefix": "del ",
     "library": "var_list.py",
     "varRefreshCmd": "print(var_dic_list())"
    },
    "r": {
     "delete_cmd_postfix": ") ",
     "delete_cmd_prefix": "rm(",
     "library": "var_list.r",
     "varRefreshCmd": "cat(var_dic_list()) "
    }
   },
   "types_to_exclude": [
    "module",
    "function",
    "builtin_function_or_method",
    "instance",
    "_Feature"
   ],
   "window_display": false
  }
 },
 "nbformat": 4,
 "nbformat_minor": 2
}
