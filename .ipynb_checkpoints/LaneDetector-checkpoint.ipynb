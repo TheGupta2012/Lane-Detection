{
 "cells": [
  {
   "cell_type": "markdown",
   "metadata": {},
   "source": [
    "## Making Lane Detector"
   ]
  },
  {
   "cell_type": "code",
   "execution_count": 9,
   "metadata": {
    "ExecuteTime": {
     "end_time": "2021-01-27T17:34:58.188723Z",
     "start_time": "2021-01-27T17:34:58.183737Z"
    }
   },
   "outputs": [],
   "source": [
    "import cv2 as cv\n",
    "import numpy as np"
   ]
  },
  {
   "cell_type": "code",
   "execution_count": 31,
   "metadata": {
    "ExecuteTime": {
     "end_time": "2021-01-27T17:37:43.006759Z",
     "start_time": "2021-01-27T17:37:42.983802Z"
    }
   },
   "outputs": [],
   "source": [
    "class LaneDetector():\n",
    "    '''ATTRIBUTES:\n",
    "    gauss_size : kernel size for the gaussian blur \n",
    "                type-> tuple of size 2 with odd and equal \n",
    "                       entries > 1\n",
    "    gauss_deviation : x and y axis standard deviations for \n",
    "               gaussian blur \n",
    "               type -> list-like of size = 2\n",
    "    auto_canny : If auto canny is True use median of blurred \n",
    "                image to calculate thresholds \n",
    "                type-> boolean\n",
    "    canny_low : the lower threshold of the canny filter \n",
    "                type -> int \n",
    "    canny_high : the higher threshold of the canny filter \n",
    "                type -> int \n",
    "    segment_x : the width of segment peak( the triangular \n",
    "               segment head). Given as the fraction of the width \n",
    "               of the image\n",
    "               type -> float in (0,1) 0 and 1 exclusive\n",
    "    segment_y : the height segment peak\n",
    "                Given as the fraction of the height from the \n",
    "                top \n",
    "                type -> float in (0,1) 0 and 1 exclusive\n",
    "                \n",
    "    METHODS:\n",
    "    '''\n",
    "    def __init__(self,\n",
    "                gauss_size = None,\n",
    "                gauss_deviation = None,\n",
    "                auto_canny = False,\n",
    "                canny_low = 50,\n",
    "                canny_high = 175,\n",
    "                segment_x = 0.5,\n",
    "                segment_y = 0.5):\n",
    "        \n",
    "        # setting gaussian kernel parameters.\n",
    "        if(gauss_size is not None):\n",
    "            if(len(gauss_size) != 2):\n",
    "                raise Exception(\"Wrong size for the Gaussian Kernel\")\n",
    "            elif(type(gauss_size) is not tuple):\n",
    "                raise Exception(\"Kernel type should be a tuple\")\n",
    "            elif(gauss_size[0]%2 == 0 or gauss_size[1]%2 == 0):\n",
    "                raise Exception(\"Even entries found in Gaussian Kernel\")    \n",
    "        self.gauss_kernel = gauss_size\n",
    "            \n",
    "        if(gauss_deviation is not None):\n",
    "            if(len(gauss_deviation)!=2):\n",
    "                raise Exception(\"Wrong length of gauss deviation\")\n",
    "            else:\n",
    "                self.gauss_deviation = gauss_deviation\n",
    "            \n",
    "        if(type(auto_canny) is not bool):\n",
    "            raise TypeError(\"Incorrect Type mentioned for auto canny\")\n",
    "            \n",
    "        # setting canny parameters\n",
    "        if(auto_canny is False):\n",
    "            self.auto_canny = False\n",
    "            if(type(canny_high) is int and type(canny_low) is int):\n",
    "                self.canny_low = canny_low \n",
    "                self.canny_high = canny_high \n",
    "            else:\n",
    "                raise TypeError(\"Incorrect type specified for canny thresholds\")\n",
    "        else:\n",
    "            self.auto_canny = True\n",
    "            \n",
    "        # setting segment parameters\n",
    "        if segment_x >=1 or segment_x<=0:\n",
    "            raise Exception(\"Fraction specified is out of range (0,1)\")\n",
    "        else:\n",
    "            self.segment_x = segment_x\n",
    "        if segment_y >=1 or segment_y<=0:\n",
    "            raise Exception(\"Fraction specified is out of range (0,1)\")\n",
    "        else:\n",
    "            self.segment_y = segment_y \n",
    "    \n",
    "    def do_canny(self,frame):\n",
    "        '''PARAMETERS: the frame of the image on which we want to apply the \n",
    "                      canny filter \n",
    "          RETURNS : a canny filtered frame '''\n",
    "        # gray the image \n",
    "        gray = cv.cvtColor(frame, cv.COLOR_BGR2GRAY) \n",
    "        # apply blur \n",
    "        if(self.gauss_kernel is None):\n",
    "            self.gauss_kernel = (9,9) # using a default kernel size \n",
    "        if(self.gauss_deviation is None):\n",
    "            self.gauss_deviation = [3,3]\n",
    "        \n",
    "        blur = cv.GaussianBlur(gray, self.gauss_kernel, self.gauss_deviation[0], self.gauss_deviation[1])\n",
    "        \n",
    "        #apply canny filter \n",
    "        if self.auto_canny is False:\n",
    "            canny = cv.Canny(blur,self.canny_low,self.canny_high)\n",
    "        else:\n",
    "            # Auto canny trumps specified parameters \n",
    "            v = np.median(blur)\n",
    "            sigma = 0.33\n",
    "            lower = int(max(0, (1.0 - sigma) * v))\n",
    "            upper = int(min(255, (1.0 + sigma) * v))\n",
    "            canny = cv.Canny(blur,lower,upper)\n",
    "        \n",
    "        return canny \n",
    "    \n",
    "    def segment_image(self,frame):\n",
    "        '''PARAMETERS: the frame of the image on which we want to apply the \n",
    "                      segementation filter \n",
    "        RETURNS : a segmented canny filtered frame '''\n",
    "        height = frame.shape[0]\n",
    "        width = frame.shape[1]\n",
    "        \n",
    "        points = np.array([\n",
    "            [(0,height),(height,width),(int(width*self.segment_x), int(height* self.segment_y))]\n",
    "        ])\n",
    "        # create an image with zero intensity with same dimensions as frame.\n",
    "        mask = np.zeros_like(frame)\n",
    "        cv.fillPoly(mask,points,255) # filling the frame's triangle with white pixels\n",
    "        \n",
    "        # do a bitwise and on the canny filtered black and white image and the \n",
    "        # segment you just created to get a triangular area for lane detection \n",
    "        segment = cv.bitwise_and(frame, mask)\n",
    "        \n",
    "        return segment \n",
    "\n",
    "    def rescale_frame(self,frame,percent=75):\n",
    "        width = int(frame.shape[1] * percent / 100)\n",
    "        height = int(frame.shape[0] * percent / 100)\n",
    "        dim = (width,height)\n",
    "        return cv.resize(frame,dim,interpolation = cv.INTER_AREA)\n",
    "    ## to do more...."
   ]
  },
  {
   "cell_type": "code",
   "execution_count": 32,
   "metadata": {
    "ExecuteTime": {
     "end_time": "2021-01-27T17:37:43.473440Z",
     "start_time": "2021-01-27T17:37:43.469444Z"
    }
   },
   "outputs": [],
   "source": [
    "lane = LaneDetector((3,3),(3,3),auto_canny=True, segment_y = 0.4)"
   ]
  },
  {
   "cell_type": "code",
   "execution_count": 40,
   "metadata": {
    "ExecuteTime": {
     "end_time": "2021-01-27T17:56:40.506676Z",
     "start_time": "2021-01-27T17:56:36.417793Z"
    }
   },
   "outputs": [],
   "source": [
    "#working fine...\n",
    "img = cv.imread(r\"E:\\InnerveHackathon\\YOLO\\Validation Set\\1.jpg\")\n",
    "can = lane.do_canny(img)\n",
    "seg = lane.segment_image(can)\n",
    "cv.line(can,(600,0),(600,300),(200,200,0),5)\n",
    "cv.imshow(\"Canny\",can)\n",
    "cv.waitKey(4000)\n",
    "cv.destroyAllWindows()"
   ]
  },
  {
   "cell_type": "code",
   "execution_count": null,
   "metadata": {},
   "outputs": [],
   "source": []
  }
 ],
 "metadata": {
  "kernelspec": {
   "display_name": "Python 3",
   "language": "python",
   "name": "python3"
  },
  "language_info": {
   "codemirror_mode": {
    "name": "ipython",
    "version": 3
   },
   "file_extension": ".py",
   "mimetype": "text/x-python",
   "name": "python",
   "nbconvert_exporter": "python",
   "pygments_lexer": "ipython3",
   "version": "3.7.4"
  },
  "varInspector": {
   "cols": {
    "lenName": 16,
    "lenType": 16,
    "lenVar": 40
   },
   "kernels_config": {
    "python": {
     "delete_cmd_postfix": "",
     "delete_cmd_prefix": "del ",
     "library": "var_list.py",
     "varRefreshCmd": "print(var_dic_list())"
    },
    "r": {
     "delete_cmd_postfix": ") ",
     "delete_cmd_prefix": "rm(",
     "library": "var_list.r",
     "varRefreshCmd": "cat(var_dic_list()) "
    }
   },
   "types_to_exclude": [
    "module",
    "function",
    "builtin_function_or_method",
    "instance",
    "_Feature"
   ],
   "window_display": false
  }
 },
 "nbformat": 4,
 "nbformat_minor": 2
}
